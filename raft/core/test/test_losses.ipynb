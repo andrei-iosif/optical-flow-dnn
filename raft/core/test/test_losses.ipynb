{
 "cells": [
  {
   "cell_type": "code",
   "execution_count": 70,
   "metadata": {},
   "outputs": [],
   "source": [
    "import torch\n",
    "import numpy as np"
   ]
  },
  {
   "cell_type": "code",
   "execution_count": 102,
   "metadata": {},
   "outputs": [],
   "source": [
    "def epe_v1(flow_pred, flow_gt):\n",
    "    epe_img = torch.sum((flow_pred - flow_gt) ** 2, dim=1).sqrt()\n",
    "    return epe_img.mean()\n",
    "\n",
    "def epe_v2(flow_pred, flow_gt, valid_mask):\n",
    "    epe_img = torch.sum((flow_pred - flow_gt) ** 2, dim=1).sqrt()\n",
    "    epe_img = epe_img.view(-1)[valid_mask.view(-1)]\n",
    "    return epe_img.mean()\n",
    "\n",
    "def epe_v3(flow_pred, flow_gt, valid_mask):\n",
    "    epe_img = torch.sum((flow_pred - flow_gt) ** 2, dim=1).sqrt()\n",
    "    return (valid_mask * epe_img).mean()\n",
    "\n",
    "def epe_v3_fixed(flow_pred, flow_gt, valid_mask):\n",
    "    epe_img = torch.sum((flow_pred - flow_gt) ** 2, dim=1).sqrt()\n",
    "    return torch.sum(epe_img * valid_mask) / torch.sum(valid_mask)\n",
    "\n",
    "\n",
    "def l1_loss(flow_pred, flow_gt, valid_mask=None):\n",
    "    loss_img = torch.sum((flow_pred - flow_gt).abs(), dim=1)\n",
    "    if valid_mask is not None:\n",
    "        return (valid_mask * loss_img).mean()\n",
    "    else:\n",
    "        return loss_img.mean()\n",
    "\n",
    "def l1_loss_fixed(flow_pred, flow_gt, valid_mask=None):\n",
    "    loss_img = torch.sum((flow_pred - flow_gt).abs(), dim=1)\n",
    "    if valid_mask is not None:\n",
    "        return torch.sum(loss_img * valid_mask) / torch.sum(valid_mask)\n",
    "    else:\n",
    "        return loss_img.mean()"
   ]
  },
  {
   "cell_type": "code",
   "execution_count": 72,
   "metadata": {},
   "outputs": [
    {
     "data": {
      "text/plain": [
       "tensor([[[[1., 1., 1.],\n",
       "          [1., 1., 1.],\n",
       "          [1., 1., 1.]],\n",
       "\n",
       "         [[1., 1., 1.],\n",
       "          [1., 1., 1.],\n",
       "          [1., 1., 1.]]]])"
      ]
     },
     "execution_count": 72,
     "metadata": {},
     "output_type": "execute_result"
    }
   ],
   "source": [
    "flow_gt = torch.ones((1, 2, 3, 3))\n",
    "flow_gt"
   ]
  },
  {
   "cell_type": "code",
   "execution_count": 73,
   "metadata": {},
   "outputs": [
    {
     "data": {
      "text/plain": [
       "tensor([[[[2., 2., 2.],\n",
       "          [3., 3., 3.],\n",
       "          [4., 4., 4.]],\n",
       "\n",
       "         [[1., 1., 1.],\n",
       "          [1., 1., 1.],\n",
       "          [1., 1., 1.]]]])"
      ]
     },
     "execution_count": 73,
     "metadata": {},
     "output_type": "execute_result"
    }
   ],
   "source": [
    "flow_pred = torch.ones((1, 2, 3, 3))\n",
    "flow_pred[:, 0, 0, :] += 1\n",
    "flow_pred[:, 0, 1, :] += 2\n",
    "flow_pred[:, 0, 2, :] += 3\n",
    "flow_pred"
   ]
  },
  {
   "cell_type": "code",
   "execution_count": 81,
   "metadata": {},
   "outputs": [
    {
     "data": {
      "text/plain": [
       "tensor([[False, False, False],\n",
       "        [ True,  True,  True],\n",
       "        [ True,  True,  True]])"
      ]
     },
     "execution_count": 81,
     "metadata": {},
     "output_type": "execute_result"
    }
   ],
   "source": [
    "valid_mask = torch.from_numpy(np.array([\n",
    "    [0, 0, 0], \n",
    "    [1, 1, 1], \n",
    "    [1, 1, 1]]).astype(bool)\n",
    ")\n",
    "valid_mask"
   ]
  },
  {
   "cell_type": "code",
   "execution_count": 75,
   "metadata": {},
   "outputs": [
    {
     "data": {
      "text/plain": [
       "tensor(2.)"
      ]
     },
     "execution_count": 75,
     "metadata": {},
     "output_type": "execute_result"
    }
   ],
   "source": [
    "epe_v1(flow_pred, flow_gt)"
   ]
  },
  {
   "cell_type": "code",
   "execution_count": 85,
   "metadata": {},
   "outputs": [
    {
     "data": {
      "text/plain": [
       "tensor(2.5000)"
      ]
     },
     "execution_count": 85,
     "metadata": {},
     "output_type": "execute_result"
    }
   ],
   "source": [
    "epe_v2(flow_pred, flow_gt, valid_mask)"
   ]
  },
  {
   "cell_type": "code",
   "execution_count": 77,
   "metadata": {},
   "outputs": [
    {
     "data": {
      "text/plain": [
       "tensor([[[1., 1., 1.],\n",
       "         [2., 2., 2.],\n",
       "         [3., 3., 3.]]])"
      ]
     },
     "execution_count": 77,
     "metadata": {},
     "output_type": "execute_result"
    }
   ],
   "source": [
    "epe_img = torch.sum((flow_pred - flow_gt) ** 2, dim=1).sqrt()\n",
    "epe_img"
   ]
  },
  {
   "cell_type": "code",
   "execution_count": 78,
   "metadata": {},
   "outputs": [
    {
     "data": {
      "text/plain": [
       "tensor([1., 1., 1., 2., 2., 2., 3., 3., 3.])"
      ]
     },
     "execution_count": 78,
     "metadata": {},
     "output_type": "execute_result"
    }
   ],
   "source": [
    "epe_vec = epe_img.view(-1)\n",
    "epe_vec"
   ]
  },
  {
   "cell_type": "code",
   "execution_count": 82,
   "metadata": {},
   "outputs": [
    {
     "data": {
      "text/plain": [
       "tensor([False, False, False,  True,  True,  True,  True,  True,  True])"
      ]
     },
     "execution_count": 82,
     "metadata": {},
     "output_type": "execute_result"
    }
   ],
   "source": [
    "valid_mask_vec = valid_mask.view(-1)\n",
    "valid_mask_vec"
   ]
  },
  {
   "cell_type": "code",
   "execution_count": 84,
   "metadata": {},
   "outputs": [
    {
     "data": {
      "text/plain": [
       "tensor([2., 2., 2., 3., 3., 3.])"
      ]
     },
     "execution_count": 84,
     "metadata": {},
     "output_type": "execute_result"
    }
   ],
   "source": [
    "epe_vec[valid_mask_vec]"
   ]
  },
  {
   "cell_type": "code",
   "execution_count": 87,
   "metadata": {},
   "outputs": [
    {
     "data": {
      "text/plain": [
       "tensor(1.6667)"
      ]
     },
     "execution_count": 87,
     "metadata": {},
     "output_type": "execute_result"
    }
   ],
   "source": [
    "epe_v3(flow_pred, flow_gt, valid_mask)"
   ]
  },
  {
   "cell_type": "code",
   "execution_count": 88,
   "metadata": {},
   "outputs": [
    {
     "data": {
      "text/plain": [
       "tensor([[[0., 0., 0.],\n",
       "         [2., 2., 2.],\n",
       "         [3., 3., 3.]]])"
      ]
     },
     "execution_count": 88,
     "metadata": {},
     "output_type": "execute_result"
    }
   ],
   "source": [
    "epe_img * valid_mask"
   ]
  },
  {
   "cell_type": "code",
   "execution_count": 90,
   "metadata": {},
   "outputs": [
    {
     "data": {
      "text/plain": [
       "tensor(2.5000)"
      ]
     },
     "execution_count": 90,
     "metadata": {},
     "output_type": "execute_result"
    }
   ],
   "source": [
    "epe_v3_fixed(flow_pred, flow_gt, valid_mask)"
   ]
  },
  {
   "cell_type": "code",
   "execution_count": 103,
   "metadata": {},
   "outputs": [
    {
     "data": {
      "text/plain": [
       "tensor(1.6667)"
      ]
     },
     "execution_count": 103,
     "metadata": {},
     "output_type": "execute_result"
    }
   ],
   "source": [
    "l1_loss(flow_pred, flow_gt, valid_mask)"
   ]
  },
  {
   "cell_type": "code",
   "execution_count": 104,
   "metadata": {},
   "outputs": [
    {
     "data": {
      "text/plain": [
       "tensor(2.5000)"
      ]
     },
     "execution_count": 104,
     "metadata": {},
     "output_type": "execute_result"
    }
   ],
   "source": [
    "l1_loss_fixed(flow_pred, flow_gt, valid_mask)"
   ]
  },
  {
   "cell_type": "code",
   "execution_count": 106,
   "metadata": {},
   "outputs": [
    {
     "data": {
      "text/plain": [
       "tensor([[[1., 1., 1.],\n",
       "         [2., 2., 2.],\n",
       "         [3., 3., 3.]]])"
      ]
     },
     "execution_count": 106,
     "metadata": {},
     "output_type": "execute_result"
    }
   ],
   "source": [
    "loss_img = torch.sum((flow_pred - flow_gt).abs(), dim=1)\n",
    "loss_img"
   ]
  },
  {
   "cell_type": "code",
   "execution_count": 107,
   "metadata": {},
   "outputs": [
    {
     "data": {
      "text/plain": [
       "tensor(2.)"
      ]
     },
     "execution_count": 107,
     "metadata": {},
     "output_type": "execute_result"
    }
   ],
   "source": [
    "loss_img.mean()"
   ]
  },
  {
   "cell_type": "code",
   "execution_count": 108,
   "metadata": {},
   "outputs": [
    {
     "data": {
      "text/plain": [
       "tensor([[[0., 0., 0.],\n",
       "         [2., 2., 2.],\n",
       "         [3., 3., 3.]]])"
      ]
     },
     "execution_count": 108,
     "metadata": {},
     "output_type": "execute_result"
    }
   ],
   "source": [
    "valid_mask * loss_img"
   ]
  },
  {
   "cell_type": "code",
   "execution_count": 109,
   "metadata": {},
   "outputs": [
    {
     "data": {
      "text/plain": [
       "tensor(15.)"
      ]
     },
     "execution_count": 109,
     "metadata": {},
     "output_type": "execute_result"
    }
   ],
   "source": [
    "torch.sum(valid_mask * loss_img)"
   ]
  },
  {
   "cell_type": "code",
   "execution_count": 110,
   "metadata": {},
   "outputs": [
    {
     "data": {
      "text/plain": [
       "tensor(6)"
      ]
     },
     "execution_count": 110,
     "metadata": {},
     "output_type": "execute_result"
    }
   ],
   "source": [
    "torch.sum(valid_mask)"
   ]
  }
 ],
 "metadata": {
  "kernelspec": {
   "display_name": "pytorch_flow",
   "language": "python",
   "name": "python3"
  },
  "language_info": {
   "codemirror_mode": {
    "name": "ipython",
    "version": 3
   },
   "file_extension": ".py",
   "mimetype": "text/x-python",
   "name": "python",
   "nbconvert_exporter": "python",
   "pygments_lexer": "ipython3",
   "version": "3.10.6"
  },
  "orig_nbformat": 4
 },
 "nbformat": 4,
 "nbformat_minor": 2
}
