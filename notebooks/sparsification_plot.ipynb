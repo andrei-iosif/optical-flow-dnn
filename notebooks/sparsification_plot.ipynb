{
 "cells": [
  {
   "cell_type": "code",
   "execution_count": 1,
   "metadata": {},
   "outputs": [],
   "source": [
    "import numpy as np\n",
    "import matplotlib.pyplot as plt\n",
    "\n",
    "import sys\n",
    "sys.path.append('../raft/')\n",
    "\n",
    "from core.evaluation.uncertainty.sparsification_metrics import compute_sparsification, compute_sparsification_oracle, compute_ause_metric\n",
    "from core.evaluation.uncertainty.sparsification_plots import sparsification_plot\n",
    "from core.evaluation.metrics import Metrics"
   ]
  },
  {
   "cell_type": "code",
   "execution_count": 2,
   "metadata": {},
   "outputs": [],
   "source": [
    "results = Metrics()\n",
    "results.load_pickle(r'/home/mnegru/repos/optical-flow-dnn/dump/uncertainty_evaluation/Sintel/RAFT-Uncertainty-V2/results.pkl')"
   ]
  },
  {
   "cell_type": "code",
   "execution_count": 3,
   "metadata": {},
   "outputs": [],
   "source": [
    "epe_vals_mean = results.reduce_mean(\"epe_vals\")\n",
    "epe_vals_oracle_mean = results.reduce_mean(\"epe_vals_oracle\")"
   ]
  },
  {
   "cell_type": "code",
   "execution_count": 4,
   "metadata": {},
   "outputs": [
    {
     "data": {
      "text/plain": [
       "array([0.99992555, 0.6500037 , 0.516777  , 0.42785263, 0.36080575,\n",
       "       0.3047077 , 0.25977764, 0.22469242, 0.19550231, 0.16846853],\n",
       "      dtype=float32)"
      ]
     },
     "execution_count": 4,
     "metadata": {},
     "output_type": "execute_result"
    }
   ],
   "source": [
    "epe_vals_mean"
   ]
  },
  {
   "cell_type": "code",
   "execution_count": 5,
   "metadata": {},
   "outputs": [
    {
     "data": {
      "text/plain": [
       "array([1.        , 0.49877638, 0.3689577 , 0.28956968, 0.23214516,\n",
       "       0.18674804, 0.14928322, 0.11839431, 0.09071949, 0.06186259],\n",
       "      dtype=float32)"
      ]
     },
     "execution_count": 5,
     "metadata": {},
     "output_type": "execute_result"
    }
   ],
   "source": [
    "epe_vals_oracle_mean"
   ]
  },
  {
   "cell_type": "code",
   "execution_count": 7,
   "metadata": {},
   "outputs": [],
   "source": [
    "idx = np.arange(0, 1, 0.1)\n",
    "sparsification_plot(epe_vals_mean, epe_vals_oracle_mean, label=\"RAFT-Uncertainty-V2\",\n",
    "                    output_path='/home/mnegru/repos/optical-flow-dnn/dump/uncertainty_evaluation/Sintel/RAFT-Uncertainty-V2')"
   ]
  },
  {
   "cell_type": "code",
   "execution_count": 8,
   "metadata": {},
   "outputs": [
    {
     "data": {
      "text/plain": [
       "0.10588653311133385"
      ]
     },
     "execution_count": 8,
     "metadata": {},
     "output_type": "execute_result"
    }
   ],
   "source": [
    "compute_ause_metric(epe_vals_mean, epe_vals_oracle_mean)"
   ]
  }
 ],
 "metadata": {
  "kernelspec": {
   "display_name": "pytorch_flow",
   "language": "python",
   "name": "python3"
  },
  "language_info": {
   "codemirror_mode": {
    "name": "ipython",
    "version": 3
   },
   "file_extension": ".py",
   "mimetype": "text/x-python",
   "name": "python",
   "nbconvert_exporter": "python",
   "pygments_lexer": "ipython3",
   "version": "3.10.6"
  },
  "orig_nbformat": 4
 },
 "nbformat": 4,
 "nbformat_minor": 2
}
